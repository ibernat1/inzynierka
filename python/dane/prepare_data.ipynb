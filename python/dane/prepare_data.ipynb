{
  "nbformat": 4,
  "nbformat_minor": 0,
  "metadata": {
    "colab": {
      "provenance": []
    },
    "kernelspec": {
      "name": "python3",
      "display_name": "Python 3"
    },
    "language_info": {
      "name": "python"
    }
  },
  "cells": [
    {
      "cell_type": "code",
      "execution_count": null,
      "metadata": {
        "id": "zfLtOF4Stsqj"
      },
      "outputs": [],
      "source": [
        "from google.colab import drive\n",
        "\n",
        "import numpy as np\n",
        "import math\n",
        "import matplotlib.pyplot as plt\n",
        "import pandas as pd\n",
        "\n",
        "from sklearn.preprocessing import StandardScaler\n",
        "\n",
        "from scipy.interpolate import interp1d"
      ]
    },
    {
      "cell_type": "code",
      "source": [
        "drive.mount('/content/drive', force_remount=True)\n",
        "data_dir = \"/content/drive/My Drive/Inzynierka/Dane/\""
      ],
      "metadata": {
        "colab": {
          "base_uri": "https://localhost:8080/"
        },
        "id": "ORjbbi-buDNI",
        "outputId": "aa0ea946-32b0-459f-84cd-7cea8e4b0168"
      },
      "execution_count": null,
      "outputs": [
        {
          "output_type": "stream",
          "name": "stdout",
          "text": [
            "Mounted at /content/drive\n"
          ]
        }
      ]
    },
    {
      "cell_type": "code",
      "source": [
        "csv_train = data_dir+\"Competition/train.csv\""
      ],
      "metadata": {
        "id": "85M70pWiuATJ"
      },
      "execution_count": null,
      "outputs": []
    },
    {
      "cell_type": "code",
      "source": [
        "columns = ['X','Y','Z','Device']\n",
        "df_train = pd.read_csv(csv_train, usecols=columns)"
      ],
      "metadata": {
        "id": "BGwxrkhp7E0b"
      },
      "execution_count": null,
      "outputs": []
    },
    {
      "cell_type": "code",
      "source": [
        "def prepareForSequences(df, seq_length, n):\n",
        "  device_unique = df.Device.unique()\n",
        "  data = pd.DataFrame({'X': [], 'Y': [],'Z': [], 'Device': []})\n",
        "  sequences_count = []\n",
        "  for device in device_unique:\n",
        "    index = df.loc[df['Device'] == device].index[0]\n",
        "    data = pd.concat([data, df.iloc[index:index+n*seq_length]], ignore_index=True)\n",
        "    sequences_count.append(n)\n",
        "  return data, sequences_count"
      ],
      "metadata": {
        "id": "o9-d7-z07UEU"
      },
      "execution_count": null,
      "outputs": []
    },
    {
      "cell_type": "code",
      "source": [
        "def getDataFromFile(file_path):\n",
        "  with open(file_path, 'r') as file:\n",
        "    lines = file.readlines()\n",
        "\n",
        "    my_data = []\n",
        "    for line in lines:\n",
        "        row = list(map(float, line.strip().split(',')))\n",
        "        my_data.append(row)\n",
        "    my_data = np.array(my_data)\n",
        "    return my_data"
      ],
      "metadata": {
        "id": "m2XSYv9O8QDd"
      },
      "execution_count": null,
      "outputs": []
    },
    {
      "cell_type": "code",
      "source": [
        "def prepareMyData (data):\n",
        "  l = data.shape[0]\n",
        "  length = (l//291)*291\n",
        "  data = data[:length]\n",
        "  data_seq = create_sequences(data, 291)\n",
        "  return data_seq"
      ],
      "metadata": {
        "id": "_rcPGFeR8gy3"
      },
      "execution_count": null,
      "outputs": []
    },
    {
      "cell_type": "code",
      "source": [
        "def create_sequences(data, seq_length):\n",
        "    X = []\n",
        "    for i in range (int(len(data) / seq_length)):\n",
        "        X.append(data[i:i+seq_length])\n",
        "    return np.array(X)"
      ],
      "metadata": {
        "id": "CpvN41IL8VWb"
      },
      "execution_count": null,
      "outputs": []
    },
    {
      "cell_type": "code",
      "source": [
        "def interpolate_data(data):\n",
        "  n_samples_5 = data.shape[0]  # Liczba próbek\n",
        "  indices_5 = np.arange(n_samples_5)  # Indeksy próbek [0, 1, ..., n_samples_5-1]\n",
        "  indices_50 = np.linspace(0, n_samples_5 - 1, (n_samples_5 - 1) * 10 + 1)  # Indeksy dla 50 Hz\n",
        "\n",
        "  # Interpolacja każdej kolumny osobno\n",
        "  interpolated_data = np.zeros((len(indices_50), data.shape[1]))  # Przygotowanie tablicy wynikowej\n",
        "\n",
        "  for i in range(data.shape[1]):  # Iteracja po wymiarach (kolumnach)\n",
        "      interp_func = interp1d(indices_5, data[:, i], kind='quadratic')  # Interpolacja liniowa\n",
        "      interpolated_data[:, i] = interp_func(indices_50)  # Wynik dla wymiaru i\n",
        "  return interpolated_data"
      ],
      "metadata": {
        "id": "pC4ivRlT8cfA"
      },
      "execution_count": null,
      "outputs": []
    },
    {
      "cell_type": "code",
      "source": [
        "seq_length = 30 # długość sekwencji przed\n",
        "n = 10 #liczba sekwencji\n",
        "\n",
        "data, sequences_count = prepareForSequences(df_train, seq_length, n)"
      ],
      "metadata": {
        "id": "-bhxBjNS7Ia3"
      },
      "execution_count": null,
      "outputs": []
    },
    {
      "cell_type": "code",
      "source": [
        "len(sequences_count)"
      ],
      "metadata": {
        "colab": {
          "base_uri": "https://localhost:8080/"
        },
        "id": "aATpr64l9ycW",
        "outputId": "95d07fdc-b377-4e40-c2bc-f9dc9e3e8398"
      },
      "execution_count": null,
      "outputs": [
        {
          "output_type": "execute_result",
          "data": {
            "text/plain": [
              "387"
            ]
          },
          "metadata": {},
          "execution_count": 45
        }
      ]
    },
    {
      "cell_type": "code",
      "source": [
        "X = data[['X', 'Y', 'Z']].to_numpy()\n",
        "y = data['Device'].to_numpy()\n",
        "# my_X, my_y = prepare_my_data(my_data, seq_length)\n",
        "# X = np.vstack((X, my_X))\n",
        "\n",
        "X_seq= create_sequences(X, seq_length)\n",
        "y_seq = y[::seq_length]\n",
        "y_seq = np.zeros(len(sequences_count)*n)\n",
        "# y_seq = np.hstack((y_seq, my_y))\n",
        "print(X_seq.shape)\n",
        "print(y_seq.shape)"
      ],
      "metadata": {
        "colab": {
          "base_uri": "https://localhost:8080/"
        },
        "id": "IexmV-Je8ast",
        "outputId": "15246627-ef64-4166-da54-0d919fa8935b"
      },
      "execution_count": null,
      "outputs": [
        {
          "output_type": "stream",
          "name": "stdout",
          "text": [
            "(3870, 30, 3)\n",
            "(3870,)\n"
          ]
        }
      ]
    },
    {
      "cell_type": "code",
      "source": [
        "X_seq_interpolated = []\n",
        "for seq in X_seq:\n",
        "  interpolated_data = interpolate_data(seq)\n",
        "  X_seq_interpolated.append(interpolated_data)\n",
        "X_seq_interpolated=np.array(X_seq_interpolated)"
      ],
      "metadata": {
        "id": "ySUIrGQb8ebI"
      },
      "execution_count": null,
      "outputs": []
    },
    {
      "cell_type": "code",
      "source": [
        "my_data1 = getDataFromFile('/content/drive/MyDrive/Inzynierka/Dane/moje/iga3020241122123434.txt')\n",
        "my_data2 = getDataFromFile('/content/drive/MyDrive/Inzynierka/Dane/moje/iga3020241122123506.txt')\n",
        "my_data3 = getDataFromFile('/content/drive/MyDrive/Inzynierka/Dane/moje/iga3020241122123539.txt')\n",
        "\n",
        "my_data = np.concatenate((my_data1, my_data2, my_data3))"
      ],
      "metadata": {
        "id": "_xaX6aHE8jhV"
      },
      "execution_count": null,
      "outputs": []
    },
    {
      "cell_type": "code",
      "source": [
        "tata_data = getDataFromFile('/content/drive/MyDrive/Inzynierka/Dane/moje/Krzysztof 20241205171209.txt')\n",
        "mama_data = getDataFromFile('/content/drive/MyDrive/Inzynierka/Dane/moje/Monika20241205172743.txt')\n",
        "mil_data = getDataFromFile('/content/drive/MyDrive/Inzynierka/Dane/moje/Milosz20241205171024.txt')"
      ],
      "metadata": {
        "id": "Qcg50htK8msI"
      },
      "execution_count": null,
      "outputs": []
    },
    {
      "cell_type": "code",
      "source": [
        "tata_seq = prepareMyData(tata_data)\n",
        "mama_seq = prepareMyData(mama_data)\n",
        "mil_seq = prepareMyData(mil_data)\n",
        "my_seq = prepareMyData(my_data)"
      ],
      "metadata": {
        "id": "yJj9_ywB8nuv"
      },
      "execution_count": null,
      "outputs": []
    },
    {
      "cell_type": "code",
      "source": [
        "y_seq= np.append(y_seq, np.zeros(15))\n",
        "y_seq= np.append(y_seq, np.ones(15))"
      ],
      "metadata": {
        "id": "0fR7oM_u8vlB"
      },
      "execution_count": null,
      "outputs": []
    },
    {
      "cell_type": "code",
      "source": [
        "X_seq_all = np.concatenate((X_seq_interpolated, tata_seq, mama_seq, mil_seq, my_seq))"
      ],
      "metadata": {
        "id": "9zYCEz_Z8xh0"
      },
      "execution_count": null,
      "outputs": []
    },
    {
      "cell_type": "code",
      "source": [
        "print(X_seq_all.shape)\n",
        "print(y_seq.shape)"
      ],
      "metadata": {
        "colab": {
          "base_uri": "https://localhost:8080/"
        },
        "id": "ljOUbBUB835P",
        "outputId": "c29a6f14-bdaa-4637-9f9d-de070c0c952d"
      },
      "execution_count": null,
      "outputs": [
        {
          "output_type": "stream",
          "name": "stdout",
          "text": [
            "(3900, 291, 3)\n",
            "(3900,)\n"
          ]
        }
      ]
    },
    {
      "cell_type": "code",
      "source": [
        "reshaped_data = X_seq_all.reshape(-1, 3)\n",
        "scaler = StandardScaler()\n",
        "scaled_data = scaler.fit_transform(reshaped_data)\n",
        "original_shape = X_seq_all.shape\n",
        "X_seq_all = scaled_data.reshape(original_shape)"
      ],
      "metadata": {
        "id": "sC0wGfq2-jPW"
      },
      "execution_count": null,
      "outputs": []
    },
    {
      "cell_type": "code",
      "source": [
        "np.save('/content/drive/MyDrive/Inzynierka/Dane/moje/X.npy', X_seq_all)"
      ],
      "metadata": {
        "id": "vOGR0cjG-aye"
      },
      "execution_count": null,
      "outputs": []
    },
    {
      "cell_type": "code",
      "source": [
        "np.save('/content/drive/MyDrive/Inzynierka/Dane/moje/y.npy', y_seq)"
      ],
      "metadata": {
        "id": "H5cqUDde-bWx"
      },
      "execution_count": null,
      "outputs": []
    }
  ]
}