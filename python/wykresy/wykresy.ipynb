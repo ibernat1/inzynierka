{
 "cells": [
  {
   "cell_type": "code",
   "execution_count": null,
   "id": "100f9857-335e-4245-bf34-d58e20fbb17c",
   "metadata": {},
   "outputs": [],
   "source": [
    "import matplotlib.pyplot as plt\n",
    "import os\n",
    "import numpy as np\n",
    "import seaborn as sns"
   ]
  },
  {
   "cell_type": "code",
   "execution_count": null,
   "id": "183687ac-1c55-428b-8430-74fc5c969172",
   "metadata": {},
   "outputs": [],
   "source": [
    "sns.set_style(\"whitegrid\")"
   ]
  },
  {
   "cell_type": "code",
   "execution_count": null,
   "id": "5991e638-1f65-47fa-9b66-5572685e15b3",
   "metadata": {},
   "outputs": [],
   "source": [
    "def getDataFromFile(file):\n",
    "    file_path = os.path.join(data_dir, file)\n",
    "    print(file_path)\n",
    "    with open(file_path, 'r') as f:\n",
    "        m = getAxes(f)\n",
    "    return m"
   ]
  },
  {
   "cell_type": "code",
   "execution_count": null,
   "id": "efdcd119-0534-4f67-b9f4-48f151237703",
   "metadata": {},
   "outputs": [],
   "source": [
    "def getName(file):\n",
    "    file = file.split('.')\n",
    "    return file[0]\n",
    "    "
   ]
  },
  {
   "cell_type": "code",
   "execution_count": null,
   "id": "cc52572a-8f0e-4e8c-be5b-4ec19f471138",
   "metadata": {},
   "outputs": [],
   "source": [
    "def getAxes(file):\n",
    "    xyz = []\n",
    "    for line in file:\n",
    "          xyz.append(np.array([float(v) for v in line.split(',')]))\n",
    "\n",
    "    return np.vstack(xyz)"
   ]
  },
  {
   "cell_type": "code",
   "execution_count": null,
   "id": "eedb0a86-05e1-417d-8d36-bb8a5b7bc77f",
   "metadata": {},
   "outputs": [],
   "source": [
    "data_dir = \"data\"\n",
    "\n",
    "files = os.listdir(data_dir)\n",
    "\n",
    "file = files[0]\n",
    "name = getName(file)\n",
    "m = getDataFromFile(file)\n",
    "\n"
   ]
  },
  {
   "cell_type": "code",
   "execution_count": null,
   "id": "2da1ac51-085b-493d-a47e-5a8f9493b132",
   "metadata": {},
   "outputs": [],
   "source": [
    "plt.plot(m)"
   ]
  },
  {
   "cell_type": "code",
   "execution_count": null,
   "id": "fbd718a2-ea14-4953-bf34-84e11835c886",
   "metadata": {},
   "outputs": [],
   "source": [
    "plt.hist(m[:,0])"
   ]
  }
 ],
 "metadata": {
  "kernelspec": {
   "display_name": "Python 3 (ipykernel)",
   "language": "python",
   "name": "python3"
  },
  "language_info": {
   "codemirror_mode": {
    "name": "ipython",
    "version": 3
   },
   "file_extension": ".py",
   "mimetype": "text/x-python",
   "name": "python",
   "nbconvert_exporter": "python",
   "pygments_lexer": "ipython3",
   "version": "3.11.5"
  }
 },
 "nbformat": 4,
 "nbformat_minor": 5
}
