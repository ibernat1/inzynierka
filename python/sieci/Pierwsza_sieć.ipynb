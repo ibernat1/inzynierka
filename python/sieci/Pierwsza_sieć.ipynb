{
  "nbformat": 4,
  "nbformat_minor": 0,
  "metadata": {
    "colab": {
      "provenance": []
    },
    "kernelspec": {
      "name": "python3",
      "display_name": "Python 3"
    },
    "language_info": {
      "name": "python"
    }
  },
  "cells": [
    {
      "cell_type": "code",
      "execution_count": 1,
      "metadata": {
        "id": "MUtcqTBXu9QH"
      },
      "outputs": [],
      "source": [
        "from google.colab import drive\n",
        "import pandas"
      ]
    },
    {
      "cell_type": "code",
      "source": [
        "drive.mount('/content/drive', force_remount=True)\n",
        "data_dir = \"/content/drive/My Drive/Inzynierka/Dane/\""
      ],
      "metadata": {
        "colab": {
          "base_uri": "https://localhost:8080/"
        },
        "id": "KtDO2qvZvNlS",
        "outputId": "7c65caa7-21ce-41bb-fdc2-69bb738d0cdc"
      },
      "execution_count": 2,
      "outputs": [
        {
          "output_type": "stream",
          "name": "stdout",
          "text": [
            "Mounted at /content/drive\n"
          ]
        }
      ]
    },
    {
      "cell_type": "code",
      "source": [
        "competition = \"accelerometer-biometric-competition.zip\""
      ],
      "metadata": {
        "id": "F98KDcRHwvx6"
      },
      "execution_count": 3,
      "outputs": []
    },
    {
      "cell_type": "code",
      "source": [
        "# # importing the zipfile module\n",
        "# from zipfile import ZipFile\n",
        "\n",
        "# # loading the temp.zip and creating a zip object\n",
        "# with ZipFile(data_dir+\"Competition/train.csv.zip\", 'r') as zObject:\n",
        "\n",
        "#     # Extracting all the members of the zip\n",
        "#     # into a specific location.\n",
        "#     zObject.extractall(\n",
        "#         path=data_dir+\"Competition\")"
      ],
      "metadata": {
        "id": "i9As-UTovsyH"
      },
      "execution_count": 4,
      "outputs": []
    },
    {
      "cell_type": "code",
      "source": [
        "csv_train = data_dir+\"Competition/train.csv\"\n",
        "csv_test = data_dir+\"Competition/test.csv\""
      ],
      "metadata": {
        "id": "fLhPvVQNygUB"
      },
      "execution_count": 5,
      "outputs": []
    },
    {
      "cell_type": "code",
      "source": [
        "import pandas as pd\n",
        "\n",
        "columns = ['X','Y','Z','Device']\n",
        "df_train = pd.read_csv(csv_train, usecols=columns)\n",
        "# columns = ['X','Y','Z','SequenceId']\n",
        "# df_test = pd.read_csv(csv_test, usecols=columns)\n",
        "# df_test.rename(columns={'SequenceId':'Device'}, inplace=True)"
      ],
      "metadata": {
        "id": "WDGcfYFc08A6"
      },
      "execution_count": 6,
      "outputs": []
    },
    {
      "cell_type": "code",
      "source": [
        "print(df_train.head())\n",
        "# print(df_test.head())"
      ],
      "metadata": {
        "colab": {
          "base_uri": "https://localhost:8080/"
        },
        "id": "2z9BSQUy1jzQ",
        "outputId": "f2a486a7-2e96-41fb-8eb6-9cd180f4c953"
      },
      "execution_count": 7,
      "outputs": [
        {
          "output_type": "stream",
          "name": "stdout",
          "text": [
            "          X         Y         Z  Device\n",
            "0  0.340509  8.308413  4.140585       7\n",
            "1  0.381370  8.390134  4.249548       7\n",
            "2  0.272407  8.471856  4.018002       7\n",
            "3  0.149824  8.430995  4.290409       7\n",
            "4  0.272407  8.430995  4.481094       7\n"
          ]
        }
      ]
    },
    {
      "cell_type": "code",
      "source": [
        "print(df_train.Device.unique())\n",
        "# print(df_test.Device.unique())"
      ],
      "metadata": {
        "colab": {
          "base_uri": "https://localhost:8080/"
        },
        "id": "4GXx-LxF2JSt",
        "outputId": "84f5e00a-bdb0-42e0-ef85-e5329dfd5739"
      },
      "execution_count": 8,
      "outputs": [
        {
          "output_type": "stream",
          "name": "stdout",
          "text": [
            "[   7    8    9   12   23   25   26   27   33   37   39   45   47   51\n",
            "   52   57   58   65   67   68   70   71   73   74   75   78   79   81\n",
            "   87   89   90   91   92   94   95   96   99  104  105  108  110  111\n",
            "  116  117  120  122  124  126  127  129  134  137  142  145  148  149\n",
            "  152  156  157  158  159  162  163  168  169  174  175  177  183  187\n",
            "  188  189  190  194  196  204  206  207  211  213  216  219  222  224\n",
            "  229  232  233  234  236  237  239  240  261  263  268  269  270  271\n",
            "  273  274  275  277  281  282  283  284  285  289  290  291  294  296\n",
            "  297  298  299  302  306  309  312  313  314  323  325  333  335  338\n",
            "  341  343  344  345  350  360  361  366  369  370  371  376  378  381\n",
            "  390  394  398  399  401  404  411  412  413  415  417  421  422  423\n",
            "  425  433  438  447  448  455  461  463  466  471  473  477  478  479\n",
            "  482  485  486  487  491  492  494  501  503  505  507  509  514  515\n",
            "  518  520  523  524  528  531  533  534  536  537  539  547  550  552\n",
            "  553  554  556  557  562  568  571  573  574  575  577  579  580  581\n",
            "  583  589  593  594  595  596  600  601  607  610  611  612  613  614\n",
            "  617  621  622  626  627  629  632  634  638  640  642  643  646  647\n",
            "  650  653  656  658  660  661  663  664  665  666  667  669  670  671\n",
            "  674  675  676  678  679  680  681  682  683  684  687  688  690  691\n",
            "  692  694  696  698  699  700  703  705  706  709  710  711  713  714\n",
            "  720  721  722  727  728  729  730  732  735  736  738  739  745  746\n",
            "  750  751  754  755  757  761  762  763  764  768  770  774  776  781\n",
            "  782  784  789  792  793  795  801  802  804  805  806  810  812  814\n",
            "  818  820  823  824  827  834  836  838  839  841  842  846  847  848\n",
            "  854  857  859  860  862  864  868  870  871  877  880  882  883  887\n",
            "  890  895  897  900  911  912  913  919  933  941  943  945  953  955\n",
            "  956  967  973  977  979  983  987  991  992  996  997  998 1000 1006\n",
            " 1015 1017 1027 1029 1031 1033 1035 1036 1037]\n"
          ]
        }
      ]
    },
    {
      "cell_type": "code",
      "source": [
        "from sklearn.preprocessing import StandardScaler\n",
        "scaler = StandardScaler()\n",
        "df_train_features = scaler.fit_transform(df_train.drop('Device', axis=1))\n",
        "# df_test_features = scaler.transform(df_test.drop('Device', axis=1))"
      ],
      "metadata": {
        "id": "_2KK36vtCT84"
      },
      "execution_count": 9,
      "outputs": []
    },
    {
      "cell_type": "code",
      "source": [
        "print(df_train_features)\n",
        "# print(df_test_features)"
      ],
      "metadata": {
        "colab": {
          "base_uri": "https://localhost:8080/"
        },
        "id": "Yn1Swr2sU99B",
        "outputId": "26e99bb0-a3b7-458e-f76a-272ba6ff9416"
      },
      "execution_count": 10,
      "outputs": [
        {
          "output_type": "stream",
          "name": "stdout",
          "text": [
            "[[-0.09228431  1.03579976 -0.12475962]\n",
            " [-0.08250146  1.05270035 -0.10268157]\n",
            " [-0.10858907  1.06960115 -0.14959726]\n",
            " ...\n",
            " [-0.210439   -0.74573331 -2.95081588]\n",
            " [-0.2470699  -0.777375   -2.85761079]\n",
            " [-0.2837008  -0.84086518 -2.95081588]]\n"
          ]
        }
      ]
    },
    {
      "cell_type": "code",
      "source": [
        "df_train[['X', 'Y', 'Z']] = df_train_features"
      ],
      "metadata": {
        "id": "uWDva2ANWlDc"
      },
      "execution_count": 11,
      "outputs": []
    },
    {
      "cell_type": "code",
      "source": [
        "seq_length = 300\n",
        "\n",
        "def balance_device_rows(df, target_count):\n",
        "    result = []\n",
        "    for device, group in df.groupby('Device'):\n",
        "        repeated_group = group.sample(target_count, random_state=1)\n",
        "        result.append(repeated_group)\n",
        "    return pd.concat(result).reset_index(drop=True)"
      ],
      "metadata": {
        "id": "wVEC-w9-qb7Y"
      },
      "execution_count": 13,
      "outputs": []
    },
    {
      "cell_type": "code",
      "source": [
        "device_counts = df_train['Device'].value_counts(sort=False)\n",
        "print(device_counts)"
      ],
      "metadata": {
        "colab": {
          "base_uri": "https://localhost:8080/"
        },
        "id": "HaQ5GWLkKKK8",
        "outputId": "1935e08b-5a83-42dd-cb73-0e323e692932"
      },
      "execution_count": 14,
      "outputs": [
        {
          "output_type": "stream",
          "name": "stdout",
          "text": [
            "Device\n",
            "7       523187\n",
            "8       324429\n",
            "9       149495\n",
            "12       10468\n",
            "23      353344\n",
            "         ...  \n",
            "1031      3271\n",
            "1033    136455\n",
            "1035     22111\n",
            "1036     50638\n",
            "1037    263110\n",
            "Name: count, Length: 387, dtype: int64\n"
          ]
        }
      ]
    },
    {
      "cell_type": "code",
      "source": [
        "# Max sekwencji\n",
        "\n",
        "# sequences_count = []\n",
        "# # data = []\n",
        "# device_unique = df_train.Device.unique()\n",
        "# data = pd.DataFrame({'X': [], 'Y': [],'Z': [], 'Device': []})\n",
        "# for device in device_unique:\n",
        "#   index = df_train.loc[df_train['Device'] == device].index[0]\n",
        "#   n = device_counts[device] // 300\n",
        "#   sequences_count.append(n)\n",
        "#   data = pd.concat([data, df_train.iloc[index:index+n*300]], ignore_index=True)"
      ],
      "metadata": {
        "id": "Mka2HWpBGb_F"
      },
      "execution_count": 16,
      "outputs": []
    },
    {
      "cell_type": "code",
      "source": [
        "# Po 10 sekwencji\n",
        "\n",
        "sequences_count = []\n",
        "# data = []\n",
        "n = 10\n",
        "device_unique = df_train.Device.unique()\n",
        "data = pd.DataFrame({'X': [], 'Y': [],'Z': [], 'Device': []})\n",
        "for device in device_unique:\n",
        "  index = df_train.loc[df_train['Device'] == device].index[0]\n",
        "  # n = device_counts[device] // 300\n",
        "  sequences_count.append(n)\n",
        "  data = pd.concat([data, df_train.iloc[index:index+n*300]], ignore_index=True)"
      ],
      "metadata": {
        "id": "kYZneWTIdU0n"
      },
      "execution_count": 17,
      "outputs": []
    },
    {
      "cell_type": "code",
      "source": [
        "sequences = 0\n",
        "for i in sequences_count:\n",
        "  sequences += i\n",
        "print(sequences)"
      ],
      "metadata": {
        "colab": {
          "base_uri": "https://localhost:8080/"
        },
        "id": "sfOuI68MPD64",
        "outputId": "dcb656f2-67fe-4701-aeec-2b3a36a66d8c"
      },
      "execution_count": 18,
      "outputs": [
        {
          "output_type": "stream",
          "name": "stdout",
          "text": [
            "3870\n"
          ]
        }
      ]
    },
    {
      "cell_type": "markdown",
      "source": [
        "#Sieć neuronowa"
      ],
      "metadata": {
        "id": "pi3jpaSqu0gj"
      }
    },
    {
      "cell_type": "code",
      "source": [
        "import tensorflow as tf\n",
        "from tensorflow.keras.models import Sequential\n",
        "from tensorflow.keras.layers import LSTM, Dense\n",
        "import numpy as np\n",
        "import math\n",
        "from sklearn.model_selection import train_test_split"
      ],
      "metadata": {
        "id": "UlCL7rtrXO1Q"
      },
      "execution_count": 21,
      "outputs": []
    },
    {
      "cell_type": "code",
      "source": [
        "X = data[['X', 'Y', 'Z']].to_numpy()"
      ],
      "metadata": {
        "id": "Du9un9F3RUMV"
      },
      "execution_count": 26,
      "outputs": []
    },
    {
      "cell_type": "code",
      "source": [
        "def create_sequences(data, seq_length):\n",
        "    X = []\n",
        "    for i in range (int(len(data) / seq_length)):\n",
        "        X.append(data[i:i+seq_length])\n",
        "    return np.array(X)"
      ],
      "metadata": {
        "id": "W9URrBdNxo8E"
      },
      "execution_count": 27,
      "outputs": []
    },
    {
      "cell_type": "code",
      "source": [
        "X_seq= create_sequences(X, seq_length)"
      ],
      "metadata": {
        "id": "CEgWip9txQwq"
      },
      "execution_count": 28,
      "outputs": []
    },
    {
      "cell_type": "code",
      "source": [
        "y_seq = []\n",
        "c = 0\n",
        "for i in sequences_count:\n",
        "  a = device_unique[c]\n",
        "  for j in range(i):\n",
        "    y_seq.append(a)\n",
        "  # print(a)\n",
        "  c +=1\n",
        "y_seq = np.array(y_seq)"
      ],
      "metadata": {
        "id": "8lp-KNP0SCEh"
      },
      "execution_count": 31,
      "outputs": []
    },
    {
      "cell_type": "code",
      "source": [
        "y_seq.shape"
      ],
      "metadata": {
        "colab": {
          "base_uri": "https://localhost:8080/"
        },
        "id": "Z0VNIawfSJRP",
        "outputId": "75eb9d49-1bac-4181-9b67-9430ee9dfecb"
      },
      "execution_count": 32,
      "outputs": [
        {
          "output_type": "execute_result",
          "data": {
            "text/plain": [
              "(3870,)"
            ]
          },
          "metadata": {},
          "execution_count": 32
        }
      ]
    },
    {
      "cell_type": "code",
      "source": [
        "X_train, X_test, y_train, y_test = train_test_split(X_seq,y_seq ,\n",
        "                                   random_state=104,\n",
        "                                   test_size=0.25,\n",
        "                                   shuffle=True)"
      ],
      "metadata": {
        "id": "_lDHb0jPRsYb"
      },
      "execution_count": 33,
      "outputs": []
    },
    {
      "cell_type": "code",
      "source": [
        "for i in range (0, len(y_train)) :\n",
        "  y_train[i] = str(y_train[i])"
      ],
      "metadata": {
        "id": "U-nlBf-_iylO"
      },
      "execution_count": 34,
      "outputs": []
    },
    {
      "cell_type": "code",
      "source": [
        "y_train"
      ],
      "metadata": {
        "colab": {
          "base_uri": "https://localhost:8080/"
        },
        "id": "9JQCMwJri3bE",
        "outputId": "5844541c-a9ff-4f32-a6da-09bb60dfb931"
      },
      "execution_count": 35,
      "outputs": [
        {
          "output_type": "execute_result",
          "data": {
            "text/plain": [
              "array([207, 793, 801, ..., 190, 491,  26])"
            ]
          },
          "metadata": {},
          "execution_count": 35
        }
      ]
    },
    {
      "cell_type": "code",
      "source": [
        "from sklearn.preprocessing import OneHotEncoder\n",
        "\n",
        "data_reshaped = np.array(y_train).reshape(-1, 1)\n",
        "encoder = OneHotEncoder(sparse_output=False)\n",
        "encoded_data = encoder.fit_transform(data_reshaped)\n",
        "encoded_test = encoder.transform(np.array(y_test).reshape(-1, 1))"
      ],
      "metadata": {
        "id": "7xRFl49Gj1Jr"
      },
      "execution_count": 37,
      "outputs": []
    },
    {
      "cell_type": "code",
      "source": [
        "# train_dataset = tf.data.Dataset.from_tensor_slices((X_train, y_train))\n",
        "\n",
        "# # Shuffle and batch the data\n",
        "# batch_size = 32  # You can set your preferred batch size\n",
        "# train_dataset = train_dataset.shuffle(buffer_size=len(X_train)).batch(batch_size)"
      ],
      "metadata": {
        "id": "oWQk7eKXgu8r"
      },
      "execution_count": 38,
      "outputs": []
    },
    {
      "cell_type": "code",
      "source": [
        "model = Sequential()\n",
        "model.add(LSTM(units=128, return_sequences=False, input_shape=(X_train.shape[1], X_train.shape[2])))\n",
        "model.add(Dense(units=387, activation='softmax'))\n",
        "model.compile(loss='categorical_crossentropy', optimizer='adam', metrics=['accuracy'])"
      ],
      "metadata": {
        "id": "UumYBjxMzfox"
      },
      "execution_count": 44,
      "outputs": []
    },
    {
      "cell_type": "code",
      "source": [
        "model.fit(X_train, encoded_data, epochs=50, batch_size=32, verbose=1)"
      ],
      "metadata": {
        "colab": {
          "base_uri": "https://localhost:8080/"
        },
        "id": "0ZmH1Dlh0vYZ",
        "outputId": "5a0cfbd6-0db1-47ac-a3b7-ec9b4037ae34"
      },
      "execution_count": 45,
      "outputs": [
        {
          "output_type": "stream",
          "name": "stdout",
          "text": [
            "Epoch 1/50\n",
            "\u001b[1m91/91\u001b[0m \u001b[32m━━━━━━━━━━━━━━━━━━━━\u001b[0m\u001b[37m\u001b[0m \u001b[1m37s\u001b[0m 382ms/step - accuracy: 0.0109 - loss: 5.8444\n",
            "Epoch 2/50\n",
            "\u001b[1m91/91\u001b[0m \u001b[32m━━━━━━━━━━━━━━━━━━━━\u001b[0m\u001b[37m\u001b[0m \u001b[1m39s\u001b[0m 366ms/step - accuracy: 0.0081 - loss: 5.1892\n",
            "Epoch 3/50\n",
            "\u001b[1m91/91\u001b[0m \u001b[32m━━━━━━━━━━━━━━━━━━━━\u001b[0m\u001b[37m\u001b[0m \u001b[1m50s\u001b[0m 461ms/step - accuracy: 0.0204 - loss: 4.8634\n",
            "Epoch 4/50\n",
            "\u001b[1m91/91\u001b[0m \u001b[32m━━━━━━━━━━━━━━━━━━━━\u001b[0m\u001b[37m\u001b[0m \u001b[1m75s\u001b[0m 382ms/step - accuracy: 0.0415 - loss: 4.6188\n",
            "Epoch 5/50\n",
            "\u001b[1m91/91\u001b[0m \u001b[32m━━━━━━━━━━━━━━━━━━━━\u001b[0m\u001b[37m\u001b[0m \u001b[1m39s\u001b[0m 365ms/step - accuracy: 0.0546 - loss: 4.4038\n",
            "Epoch 6/50\n",
            "\u001b[1m91/91\u001b[0m \u001b[32m━━━━━━━━━━━━━━━━━━━━\u001b[0m\u001b[37m\u001b[0m \u001b[1m41s\u001b[0m 363ms/step - accuracy: 0.0697 - loss: 4.1912\n",
            "Epoch 7/50\n",
            "\u001b[1m91/91\u001b[0m \u001b[32m━━━━━━━━━━━━━━━━━━━━\u001b[0m\u001b[37m\u001b[0m \u001b[1m33s\u001b[0m 366ms/step - accuracy: 0.0942 - loss: 3.9337\n",
            "Epoch 8/50\n",
            "\u001b[1m91/91\u001b[0m \u001b[32m━━━━━━━━━━━━━━━━━━━━\u001b[0m\u001b[37m\u001b[0m \u001b[1m40s\u001b[0m 358ms/step - accuracy: 0.1361 - loss: 3.7461\n",
            "Epoch 9/50\n",
            "\u001b[1m91/91\u001b[0m \u001b[32m━━━━━━━━━━━━━━━━━━━━\u001b[0m\u001b[37m\u001b[0m \u001b[1m41s\u001b[0m 361ms/step - accuracy: 0.1395 - loss: 3.6752\n",
            "Epoch 10/50\n",
            "\u001b[1m91/91\u001b[0m \u001b[32m━━━━━━━━━━━━━━━━━━━━\u001b[0m\u001b[37m\u001b[0m \u001b[1m41s\u001b[0m 363ms/step - accuracy: 0.1523 - loss: 3.7187\n",
            "Epoch 11/50\n",
            "\u001b[1m91/91\u001b[0m \u001b[32m━━━━━━━━━━━━━━━━━━━━\u001b[0m\u001b[37m\u001b[0m \u001b[1m42s\u001b[0m 374ms/step - accuracy: 0.2047 - loss: 3.3535\n",
            "Epoch 12/50\n",
            "\u001b[1m91/91\u001b[0m \u001b[32m━━━━━━━━━━━━━━━━━━━━\u001b[0m\u001b[37m\u001b[0m \u001b[1m39s\u001b[0m 354ms/step - accuracy: 0.2429 - loss: 3.1501\n",
            "Epoch 13/50\n",
            "\u001b[1m91/91\u001b[0m \u001b[32m━━━━━━━━━━━━━━━━━━━━\u001b[0m\u001b[37m\u001b[0m \u001b[1m45s\u001b[0m 397ms/step - accuracy: 0.2395 - loss: 3.1719\n",
            "Epoch 14/50\n",
            "\u001b[1m91/91\u001b[0m \u001b[32m━━━━━━━━━━━━━━━━━━━━\u001b[0m\u001b[37m\u001b[0m \u001b[1m39s\u001b[0m 372ms/step - accuracy: 0.3136 - loss: 2.7858\n",
            "Epoch 15/50\n",
            "\u001b[1m91/91\u001b[0m \u001b[32m━━━━━━━━━━━━━━━━━━━━\u001b[0m\u001b[37m\u001b[0m \u001b[1m41s\u001b[0m 375ms/step - accuracy: 0.3465 - loss: 2.5993\n",
            "Epoch 16/50\n",
            "\u001b[1m91/91\u001b[0m \u001b[32m━━━━━━━━━━━━━━━━━━━━\u001b[0m\u001b[37m\u001b[0m \u001b[1m39s\u001b[0m 358ms/step - accuracy: 0.3500 - loss: 2.5294\n",
            "Epoch 17/50\n",
            "\u001b[1m91/91\u001b[0m \u001b[32m━━━━━━━━━━━━━━━━━━━━\u001b[0m\u001b[37m\u001b[0m \u001b[1m33s\u001b[0m 361ms/step - accuracy: 0.3829 - loss: 2.3786\n",
            "Epoch 18/50\n",
            "\u001b[1m91/91\u001b[0m \u001b[32m━━━━━━━━━━━━━━━━━━━━\u001b[0m\u001b[37m\u001b[0m \u001b[1m41s\u001b[0m 358ms/step - accuracy: 0.3602 - loss: 2.5176\n",
            "Epoch 19/50\n",
            "\u001b[1m91/91\u001b[0m \u001b[32m━━━━━━━━━━━━━━━━━━━━\u001b[0m\u001b[37m\u001b[0m \u001b[1m41s\u001b[0m 361ms/step - accuracy: 0.3780 - loss: 2.3854\n",
            "Epoch 20/50\n",
            "\u001b[1m91/91\u001b[0m \u001b[32m━━━━━━━━━━━━━━━━━━━━\u001b[0m\u001b[37m\u001b[0m \u001b[1m41s\u001b[0m 358ms/step - accuracy: 0.3422 - loss: 2.5587\n",
            "Epoch 21/50\n",
            "\u001b[1m91/91\u001b[0m \u001b[32m━━━━━━━━━━━━━━━━━━━━\u001b[0m\u001b[37m\u001b[0m \u001b[1m42s\u001b[0m 368ms/step - accuracy: 0.2608 - loss: 3.2151\n",
            "Epoch 22/50\n",
            "\u001b[1m91/91\u001b[0m \u001b[32m━━━━━━━━━━━━━━━━━━━━\u001b[0m\u001b[37m\u001b[0m \u001b[1m39s\u001b[0m 351ms/step - accuracy: 0.0213 - loss: 5.3170\n",
            "Epoch 23/50\n",
            "\u001b[1m91/91\u001b[0m \u001b[32m━━━━━━━━━━━━━━━━━━━━\u001b[0m\u001b[37m\u001b[0m \u001b[1m32s\u001b[0m 356ms/step - accuracy: 0.0898 - loss: 4.1095\n",
            "Epoch 24/50\n",
            "\u001b[1m91/91\u001b[0m \u001b[32m━━━━━━━━━━━━━━━━━━━━\u001b[0m\u001b[37m\u001b[0m \u001b[1m41s\u001b[0m 355ms/step - accuracy: 0.1996 - loss: 3.5137\n",
            "Epoch 25/50\n",
            "\u001b[1m91/91\u001b[0m \u001b[32m━━━━━━━━━━━━━━━━━━━━\u001b[0m\u001b[37m\u001b[0m \u001b[1m41s\u001b[0m 358ms/step - accuracy: 0.2614 - loss: 3.1600\n",
            "Epoch 26/50\n",
            "\u001b[1m91/91\u001b[0m \u001b[32m━━━━━━━━━━━━━━━━━━━━\u001b[0m\u001b[37m\u001b[0m \u001b[1m41s\u001b[0m 359ms/step - accuracy: 0.3304 - loss: 2.8288\n",
            "Epoch 27/50\n",
            "\u001b[1m91/91\u001b[0m \u001b[32m━━━━━━━━━━━━━━━━━━━━\u001b[0m\u001b[37m\u001b[0m \u001b[1m42s\u001b[0m 363ms/step - accuracy: 0.3444 - loss: 2.6578\n",
            "Epoch 28/50\n",
            "\u001b[1m91/91\u001b[0m \u001b[32m━━━━━━━━━━━━━━━━━━━━\u001b[0m\u001b[37m\u001b[0m \u001b[1m33s\u001b[0m 364ms/step - accuracy: 0.3719 - loss: 2.4806\n",
            "Epoch 29/50\n",
            "\u001b[1m91/91\u001b[0m \u001b[32m━━━━━━━━━━━━━━━━━━━━\u001b[0m\u001b[37m\u001b[0m \u001b[1m42s\u001b[0m 376ms/step - accuracy: 0.3448 - loss: 2.5840\n",
            "Epoch 30/50\n",
            "\u001b[1m91/91\u001b[0m \u001b[32m━━━━━━━━━━━━━━━━━━━━\u001b[0m\u001b[37m\u001b[0m \u001b[1m40s\u001b[0m 364ms/step - accuracy: 0.3922 - loss: 2.3083\n",
            "Epoch 31/50\n",
            "\u001b[1m91/91\u001b[0m \u001b[32m━━━━━━━━━━━━━━━━━━━━\u001b[0m\u001b[37m\u001b[0m \u001b[1m34s\u001b[0m 370ms/step - accuracy: 0.4231 - loss: 2.2192\n",
            "Epoch 32/50\n",
            "\u001b[1m91/91\u001b[0m \u001b[32m━━━━━━━━━━━━━━━━━━━━\u001b[0m\u001b[37m\u001b[0m \u001b[1m40s\u001b[0m 364ms/step - accuracy: 0.4561 - loss: 2.1064\n",
            "Epoch 33/50\n",
            "\u001b[1m91/91\u001b[0m \u001b[32m━━━━━━━━━━━━━━━━━━━━\u001b[0m\u001b[37m\u001b[0m \u001b[1m33s\u001b[0m 362ms/step - accuracy: 0.2347 - loss: 3.4855\n",
            "Epoch 34/50\n",
            "\u001b[1m91/91\u001b[0m \u001b[32m━━━━━━━━━━━━━━━━━━━━\u001b[0m\u001b[37m\u001b[0m \u001b[1m41s\u001b[0m 358ms/step - accuracy: 0.1385 - loss: 3.5307\n",
            "Epoch 35/50\n",
            "\u001b[1m91/91\u001b[0m \u001b[32m━━━━━━━━━━━━━━━━━━━━\u001b[0m\u001b[37m\u001b[0m \u001b[1m41s\u001b[0m 357ms/step - accuracy: 0.1570 - loss: 3.7428\n",
            "Epoch 36/50\n",
            "\u001b[1m91/91\u001b[0m \u001b[32m━━━━━━━━━━━━━━━━━━━━\u001b[0m\u001b[37m\u001b[0m \u001b[1m41s\u001b[0m 352ms/step - accuracy: 0.1759 - loss: 3.5816\n",
            "Epoch 37/50\n",
            "\u001b[1m91/91\u001b[0m \u001b[32m━━━━━━━━━━━━━━━━━━━━\u001b[0m\u001b[37m\u001b[0m \u001b[1m43s\u001b[0m 367ms/step - accuracy: 0.2866 - loss: 2.9195\n",
            "Epoch 38/50\n",
            "\u001b[1m91/91\u001b[0m \u001b[32m━━━━━━━━━━━━━━━━━━━━\u001b[0m\u001b[37m\u001b[0m \u001b[1m40s\u001b[0m 355ms/step - accuracy: 0.3593 - loss: 2.5781\n",
            "Epoch 39/50\n",
            "\u001b[1m91/91\u001b[0m \u001b[32m━━━━━━━━━━━━━━━━━━━━\u001b[0m\u001b[37m\u001b[0m \u001b[1m41s\u001b[0m 355ms/step - accuracy: 0.4127 - loss: 2.3389\n",
            "Epoch 40/50\n",
            "\u001b[1m91/91\u001b[0m \u001b[32m━━━━━━━━━━━━━━━━━━━━\u001b[0m\u001b[37m\u001b[0m \u001b[1m41s\u001b[0m 353ms/step - accuracy: 0.4648 - loss: 2.1937\n",
            "Epoch 41/50\n",
            "\u001b[1m91/91\u001b[0m \u001b[32m━━━━━━━━━━━━━━━━━━━━\u001b[0m\u001b[37m\u001b[0m \u001b[1m32s\u001b[0m 356ms/step - accuracy: 0.3035 - loss: 3.3681\n",
            "Epoch 42/50\n",
            "\u001b[1m91/91\u001b[0m \u001b[32m━━━━━━━━━━━━━━━━━━━━\u001b[0m\u001b[37m\u001b[0m \u001b[1m32s\u001b[0m 354ms/step - accuracy: 0.1392 - loss: 4.4132\n",
            "Epoch 43/50\n",
            "\u001b[1m91/91\u001b[0m \u001b[32m━━━━━━━━━━━━━━━━━━━━\u001b[0m\u001b[37m\u001b[0m \u001b[1m42s\u001b[0m 370ms/step - accuracy: 0.2151 - loss: 3.5695\n",
            "Epoch 44/50\n",
            "\u001b[1m91/91\u001b[0m \u001b[32m━━━━━━━━━━━━━━━━━━━━\u001b[0m\u001b[37m\u001b[0m \u001b[1m40s\u001b[0m 356ms/step - accuracy: 0.2633 - loss: 3.2405\n",
            "Epoch 45/50\n",
            "\u001b[1m91/91\u001b[0m \u001b[32m━━━━━━━━━━━━━━━━━━━━\u001b[0m\u001b[37m\u001b[0m \u001b[1m42s\u001b[0m 368ms/step - accuracy: 0.2820 - loss: 3.0952\n",
            "Epoch 46/50\n",
            "\u001b[1m91/91\u001b[0m \u001b[32m━━━━━━━━━━━━━━━━━━━━\u001b[0m\u001b[37m\u001b[0m \u001b[1m32s\u001b[0m 357ms/step - accuracy: 0.3438 - loss: 2.6330\n",
            "Epoch 47/50\n",
            "\u001b[1m91/91\u001b[0m \u001b[32m━━━━━━━━━━━━━━━━━━━━\u001b[0m\u001b[37m\u001b[0m \u001b[1m43s\u001b[0m 378ms/step - accuracy: 0.3456 - loss: 2.5812\n",
            "Epoch 48/50\n",
            "\u001b[1m91/91\u001b[0m \u001b[32m━━━━━━━━━━━━━━━━━━━━\u001b[0m\u001b[37m\u001b[0m \u001b[1m39s\u001b[0m 361ms/step - accuracy: 0.4359 - loss: 2.3433\n",
            "Epoch 49/50\n",
            "\u001b[1m91/91\u001b[0m \u001b[32m━━━━━━━━━━━━━━━━━━━━\u001b[0m\u001b[37m\u001b[0m \u001b[1m33s\u001b[0m 367ms/step - accuracy: 0.4307 - loss: 2.2314\n",
            "Epoch 50/50\n",
            "\u001b[1m91/91\u001b[0m \u001b[32m━━━━━━━━━━━━━━━━━━━━\u001b[0m\u001b[37m\u001b[0m \u001b[1m34s\u001b[0m 374ms/step - accuracy: 0.4802 - loss: 2.1023\n"
          ]
        },
        {
          "output_type": "execute_result",
          "data": {
            "text/plain": [
              "<keras.src.callbacks.history.History at 0x78c434c3fe80>"
            ]
          },
          "metadata": {},
          "execution_count": 45
        }
      ]
    },
    {
      "cell_type": "code",
      "source": [
        "loss, accuracy = model.evaluate(X_test, encoded_test, verbose=0)\n",
        "print('Test loss:', loss)\n",
        "print('Test accuracy:', accuracy  )"
      ],
      "metadata": {
        "colab": {
          "base_uri": "https://localhost:8080/"
        },
        "id": "Q2kFz_xZ6yxD",
        "outputId": "4c099d5b-bc6b-4739-fda5-bc9460193e34"
      },
      "execution_count": 46,
      "outputs": [
        {
          "output_type": "stream",
          "name": "stdout",
          "text": [
            "Test loss: 2.201958179473877\n",
            "Test accuracy: 0.38119834661483765\n"
          ]
        }
      ]
    }
  ]
}